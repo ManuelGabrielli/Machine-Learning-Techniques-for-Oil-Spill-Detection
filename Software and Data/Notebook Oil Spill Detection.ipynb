{
 "cells": [
  {
   "cell_type": "markdown",
   "metadata": {
    "id": "Kkn9UZz4ahOW"
   },
   "source": [
    "# MACHINE LEARNING TECHNIQUES FOR OIL SPILL DETECTION\n",
    "\n",
    "### Manuel Gabrielli - manuel.gabrielli@studio.unibo.it\n",
    "\n",
    "\n",
    "---\n"
   ]
  },
  {
   "cell_type": "markdown",
   "metadata": {
    "id": "lwMVMAtTPFNs"
   },
   "source": [
    "In this project I experiment two different techniques, Convolutional Neural Networks and Transfer Learning, for oil spill detection. I also consider techniques for data augmentation and artificial noise generation, to provide a wider spectrum of experiments.\n",
    "\n"
   ]
  },
  {
   "cell_type": "markdown",
   "metadata": {
    "id": "eeR4nxyaRF6I"
   },
   "source": [
    "# Libraries"
   ]
  },
  {
   "cell_type": "markdown",
   "metadata": {
    "id": "jEZdr9NUd1fT"
   },
   "source": [
    "In this section I import all the libraries necessary for the development of the project."
   ]
  },
  {
   "cell_type": "code",
   "execution_count": null,
   "metadata": {
    "id": "O-p3VlpoD5ux"
   },
   "outputs": [],
   "source": [
    "import pandas as pd\n",
    "import numpy as np\n",
    "import matplotlib.pyplot as plt\n",
    "import seaborn as sns\n",
    "import zipfile\n",
    "import os\n",
    "from os.path import exists\n",
    "from sklearn.preprocessing import MultiLabelBinarizer\n",
    "from time import perf_counter\n",
    "\n",
    "from tensorflow import keras\n",
    "from keras.models import Sequential\n",
    "from keras_preprocessing.image import ImageDataGenerator\n",
    "from keras.layers import Dense, Activation, Flatten, Dropout, BatchNormalization\n",
    "from keras.layers import Conv2D, MaxPooling2D\n",
    "from keras import regularizers, optimizers\n",
    "from sklearn.metrics import multilabel_confusion_matrix, ConfusionMatrixDisplay, confusion_matrix, classification_report\n",
    "from sklearn.utils.class_weight import compute_sample_weight\n",
    "import tensorflow_hub as hub"
   ]
  },
  {
   "cell_type": "markdown",
   "metadata": {
    "id": "JQa_70d0IAch"
   },
   "source": [
    "# Data Preparation"
   ]
  },
  {
   "cell_type": "markdown",
   "metadata": {
    "id": "9pXX84zRbNjU"
   },
   "source": [
    "In this section I prepare the DataFrames used by the models."
   ]
  },
  {
   "cell_type": "markdown",
   "metadata": {
    "id": "RZvhxxLOEFs5"
   },
   "source": [
    "First I download the Oil Spill Detection Dataset, developed by Social Media Analytics Laboratory (MKLab), from my project folder in Github."
   ]
  },
  {
   "cell_type": "markdown",
   "metadata": {
    "id": "SIl6zJy-RC7X"
   },
   "source": [
    "**Oil Spill Detection Dataset** contains jpg images extracted from satellite Synthetic Aperture Radar (SAR) data depicting oil spills and other relevant instances, and their corresponding ground truth masks. \n",
    "\n",
    "Initial SAR data were collected from the European Space Agency (ESA) database, the Copernicus Open Access Hub acquired via the Sentinel-1 European Satellite missions. \n",
    "\n",
    "The required geographic coordinates and time of the confirmed oil spills were provided by the European Maritime Safety Agency (EMSA) based on the CleanSeaNet service records, covering a period from 28/09/2015 up to 31/10/2017."
   ]
  },
  {
   "cell_type": "code",
   "execution_count": null,
   "metadata": {
    "id": "fG49el4MEJzj"
   },
   "outputs": [],
   "source": [
    "#check the existence of the file\n",
    "zip_path = \"/tmp/oil-spill-detection.zip\";\n",
    "\n",
    "if not exists(zip_path):\n",
    "  !wget --no-check-certificate \\\n",
    "      \"https://github.com/ManuelGabrielli/gabrielli-Machine-Learning-Techniques-for-Oil-Spill-Detection/archive/refs/heads/master.zip\" \\\n",
    "      -O \"/tmp/oil-spill-detection.zip\"\n",
    "\n",
    "  zip_ref = zipfile.ZipFile(zip_path, 'r') #Opens the zip file in read mode\n",
    "  zip_ref.extractall('/tmp') #Extracts the files into the /tmp folder\n",
    "  zip_ref.close()"
   ]
  },
  {
   "cell_type": "markdown",
   "metadata": {
    "id": "FPI4_GZXSNbp"
   },
   "source": [
    "The developed dataset contains around 1000 images for training and 110 images for testing, depicting instances of 5 classes, namely '*Sea Surface*', '*Oil Spill*', '*Look-alike*', '*Land*' and'*Ship*'."
   ]
  },
  {
   "cell_type": "markdown",
   "metadata": {
    "id": "Rtbvnuo-SOdT"
   },
   "source": [
    "\n",
    "Data are split into training and test sets.\n",
    "\n",
    "Each set contains three folders, namely:\n",
    "*   images: SAR images (.jpg)\n",
    "*   labels: ground truth segmentation RGB masks (.png)\n",
    "*  labels_1D: ground truth segmentation labels (.png)\n"
   ]
  },
  {
   "cell_type": "code",
   "execution_count": null,
   "metadata": {
    "colab": {
     "base_uri": "https://localhost:8080/"
    },
    "id": "bxjzLlfPENJ8",
    "outputId": "5b29e496-8a98-4911-96bd-9a82873d35d1"
   },
   "outputs": [
    {
     "name": "stdout",
     "output_type": "stream",
     "text": [
      "Number of images in the Test set 110\n",
      "Number of images in the Train set 1002\n"
     ]
    }
   ],
   "source": [
    "dataset_path = '/tmp/gabrielli-Machine-Learning-Techniques-for-Oil-Spill-Detection-master/Software and Data/Oil Spill Detection Dataset'\n",
    "lenTestSet = len(os.listdir(dataset_path+'/test/images'))\n",
    "lenTrainSet = len(os.listdir(dataset_path+'/train/images'))\n",
    "print('Number of images in the Test set' , lenTestSet)\n",
    "print('Number of images in the Train set' , lenTrainSet)"
   ]
  },
  {
   "cell_type": "markdown",
   "metadata": {
    "id": "XBwA9h38EeK9"
   },
   "source": [
    "The possible labels are five and each of them is linked to a number, decided by the creators of the Dataset. In particular, the 'Look-alike' class identifies stains that are similar to oil stains but are not."
   ]
  },
  {
   "cell_type": "code",
   "execution_count": null,
   "metadata": {
    "id": "Gdhs9xVPEl5L"
   },
   "outputs": [],
   "source": [
    "labels = {0:'Sea Surface', 1:'Oil Spill', 2:'Look-alike', 3:'Ship', 4:'Land'}"
   ]
  },
  {
   "cell_type": "markdown",
   "metadata": {
    "id": "BuOpcTgeTBTm"
   },
   "source": [
    "Each image can be associated with one or more classes based on what elements it represents. So, for example, an image can only represent '*Sea Surface*' or it can contain both '*Sea Surface*' and '*Oil Spill*' and therefore be associated with both classes."
   ]
  },
  {
   "cell_type": "markdown",
   "metadata": {
    "id": "BBnZP1M0EzGT"
   },
   "source": [
    "In order to obtain the DataFrame that contains information about the classes to which each image belongs, I created a function, called createDataFrame, that takes as arguments the name of the folder of the Dataset (train or test) and the number of images that it contains, and returns the DataFrame created.\n",
    "\n",
    "The classes associated with each image are taken by analyzing the respective 1D image. The 1D images are images that contains only values from 0 to 4 associated to each pixel. In particular, if a pixel in the original image displays a part of '*Sea Surface*', in the corresponding 1D image it will have the value 0."
   ]
  },
  {
   "cell_type": "code",
   "execution_count": null,
   "metadata": {
    "id": "HcLQLHcwEdhB"
   },
   "outputs": [],
   "source": [
    "def createDataFrame(name, length):\n",
    "  tmp_dict = {}\n",
    "\n",
    "  for i in range(1, length+1):\n",
    "    image_name = 'img_'+'%04d'%i\n",
    "\n",
    "    #this takes the list of classes present in the image \n",
    "    img = Image.open(dataset_path+'/'+name+'/labels_1D/'+image_name+'.png').convert('RGBA')\n",
    "    arr = np.array(img)\n",
    "\n",
    "    # make a 1-dimensional view of arr\n",
    "    flat_arr = arr.ravel()\n",
    "\n",
    "    # convert it to a matrix\n",
    "    vector = np.matrix(flat_arr)\n",
    "\n",
    "    x=np.array(vector)\n",
    "    values = np.unique(x)\n",
    "    values = values[:-1] #discard the last value which is always 255\n",
    "\n",
    "    tmp_dict[image_name] = values\n",
    "\n",
    "  #use MultiLabelBinazer to transform the values in a multilabel format  \n",
    "  mlb = MultiLabelBinarizer()\n",
    "  df_values = mlb.fit_transform(tmp_dict.values())\n",
    "\n",
    "  #create dataframe\n",
    "  df = pd.DataFrame(df_values, \n",
    "                    columns=labels.values())\n",
    "  \n",
    "  df['Filenames'] = tmp_dict.keys()\n",
    "  df['Filenames'] = df['Filenames']+'.jpg'\n",
    "  \n",
    "  return df"
   ]
  },
  {
   "cell_type": "markdown",
   "metadata": {
    "id": "eRJrgiXSGJMc"
   },
   "source": [
    "Now I extract the DataFrames from the train and test images. However, If the .csv files of the DataFrames already exist, I just read them and don't recreate them."
   ]
  },
  {
   "cell_type": "code",
   "execution_count": null,
   "metadata": {
    "id": "WVGXZh87GIge"
   },
   "outputs": [],
   "source": [
    "#check if the .csv files of the dataframes already exist, if they don't exist I create them otherwise I read them directly\n",
    "path_train_df = dataset_path+\"/train_dataframe.csv\"\n",
    "path_test_df = dataset_path+\"/test_dataframe.csv\"\n",
    "\n",
    "if exists(path_train_df):\n",
    "  df_train = pd.read_csv(path_train_df, delimiter=',')\n",
    "else:\n",
    "  df_train = createDataFrame('train', lenTrainSet)\n",
    "  #save dataframe\n",
    "  df_train.to_csv(path_train_df,index=False)\n",
    "\n",
    "if exists(path_test_df):\n",
    "  df_test = pd.read_csv(path_test_df, delimiter=',')\n",
    "else:\n",
    "  df_test = createDataFrame('test', lenTestSet)\n",
    "  df_test.to_csv(path_test_df,index=False)"
   ]
  },
  {
   "cell_type": "markdown",
   "metadata": {
    "id": "cDt11YfXYWc5"
   },
   "source": [
    "The resulting DataFrames, one for the test images and one for the train images, have the same structure. For each image, the name is contained in the '*Filenames*' column, the value of the remaining columns, one for each possible class, is 0 if the image does not show that element, otherwise it is 1. "
   ]
  },
  {
   "cell_type": "code",
   "execution_count": null,
   "metadata": {
    "colab": {
     "base_uri": "https://localhost:8080/",
     "height": 206
    },
    "id": "jbMotVnbGi4G",
    "outputId": "4acdcd72-51e6-438b-9f17-de9f311c2d2d"
   },
   "outputs": [
    {
     "data": {
      "text/html": [
       "\n",
       "  <div id=\"df-18a79a0c-1294-4944-ab0d-13764ac315e0\">\n",
       "    <div class=\"colab-df-container\">\n",
       "      <div>\n",
       "<style scoped>\n",
       "    .dataframe tbody tr th:only-of-type {\n",
       "        vertical-align: middle;\n",
       "    }\n",
       "\n",
       "    .dataframe tbody tr th {\n",
       "        vertical-align: top;\n",
       "    }\n",
       "\n",
       "    .dataframe thead th {\n",
       "        text-align: right;\n",
       "    }\n",
       "</style>\n",
       "<table border=\"1\" class=\"dataframe\">\n",
       "  <thead>\n",
       "    <tr style=\"text-align: right;\">\n",
       "      <th></th>\n",
       "      <th>Sea Surface</th>\n",
       "      <th>Oil Spill</th>\n",
       "      <th>Look-alike</th>\n",
       "      <th>Ship</th>\n",
       "      <th>Land</th>\n",
       "      <th>Filenames</th>\n",
       "    </tr>\n",
       "  </thead>\n",
       "  <tbody>\n",
       "    <tr>\n",
       "      <th>0</th>\n",
       "      <td>1</td>\n",
       "      <td>1</td>\n",
       "      <td>0</td>\n",
       "      <td>0</td>\n",
       "      <td>0</td>\n",
       "      <td>img_0001.jpg</td>\n",
       "    </tr>\n",
       "    <tr>\n",
       "      <th>1</th>\n",
       "      <td>1</td>\n",
       "      <td>1</td>\n",
       "      <td>1</td>\n",
       "      <td>0</td>\n",
       "      <td>0</td>\n",
       "      <td>img_0002.jpg</td>\n",
       "    </tr>\n",
       "    <tr>\n",
       "      <th>2</th>\n",
       "      <td>1</td>\n",
       "      <td>1</td>\n",
       "      <td>0</td>\n",
       "      <td>0</td>\n",
       "      <td>0</td>\n",
       "      <td>img_0003.jpg</td>\n",
       "    </tr>\n",
       "    <tr>\n",
       "      <th>3</th>\n",
       "      <td>1</td>\n",
       "      <td>1</td>\n",
       "      <td>1</td>\n",
       "      <td>0</td>\n",
       "      <td>0</td>\n",
       "      <td>img_0004.jpg</td>\n",
       "    </tr>\n",
       "    <tr>\n",
       "      <th>4</th>\n",
       "      <td>1</td>\n",
       "      <td>1</td>\n",
       "      <td>0</td>\n",
       "      <td>0</td>\n",
       "      <td>0</td>\n",
       "      <td>img_0005.jpg</td>\n",
       "    </tr>\n",
       "  </tbody>\n",
       "</table>\n",
       "</div>\n",
       "      <button class=\"colab-df-convert\" onclick=\"convertToInteractive('df-18a79a0c-1294-4944-ab0d-13764ac315e0')\"\n",
       "              title=\"Convert this dataframe to an interactive table.\"\n",
       "              style=\"display:none;\">\n",
       "        \n",
       "  <svg xmlns=\"http://www.w3.org/2000/svg\" height=\"24px\"viewBox=\"0 0 24 24\"\n",
       "       width=\"24px\">\n",
       "    <path d=\"M0 0h24v24H0V0z\" fill=\"none\"/>\n",
       "    <path d=\"M18.56 5.44l.94 2.06.94-2.06 2.06-.94-2.06-.94-.94-2.06-.94 2.06-2.06.94zm-11 1L8.5 8.5l.94-2.06 2.06-.94-2.06-.94L8.5 2.5l-.94 2.06-2.06.94zm10 10l.94 2.06.94-2.06 2.06-.94-2.06-.94-.94-2.06-.94 2.06-2.06.94z\"/><path d=\"M17.41 7.96l-1.37-1.37c-.4-.4-.92-.59-1.43-.59-.52 0-1.04.2-1.43.59L10.3 9.45l-7.72 7.72c-.78.78-.78 2.05 0 2.83L4 21.41c.39.39.9.59 1.41.59.51 0 1.02-.2 1.41-.59l7.78-7.78 2.81-2.81c.8-.78.8-2.07 0-2.86zM5.41 20L4 18.59l7.72-7.72 1.47 1.35L5.41 20z\"/>\n",
       "  </svg>\n",
       "      </button>\n",
       "      \n",
       "  <style>\n",
       "    .colab-df-container {\n",
       "      display:flex;\n",
       "      flex-wrap:wrap;\n",
       "      gap: 12px;\n",
       "    }\n",
       "\n",
       "    .colab-df-convert {\n",
       "      background-color: #E8F0FE;\n",
       "      border: none;\n",
       "      border-radius: 50%;\n",
       "      cursor: pointer;\n",
       "      display: none;\n",
       "      fill: #1967D2;\n",
       "      height: 32px;\n",
       "      padding: 0 0 0 0;\n",
       "      width: 32px;\n",
       "    }\n",
       "\n",
       "    .colab-df-convert:hover {\n",
       "      background-color: #E2EBFA;\n",
       "      box-shadow: 0px 1px 2px rgba(60, 64, 67, 0.3), 0px 1px 3px 1px rgba(60, 64, 67, 0.15);\n",
       "      fill: #174EA6;\n",
       "    }\n",
       "\n",
       "    [theme=dark] .colab-df-convert {\n",
       "      background-color: #3B4455;\n",
       "      fill: #D2E3FC;\n",
       "    }\n",
       "\n",
       "    [theme=dark] .colab-df-convert:hover {\n",
       "      background-color: #434B5C;\n",
       "      box-shadow: 0px 1px 3px 1px rgba(0, 0, 0, 0.15);\n",
       "      filter: drop-shadow(0px 1px 2px rgba(0, 0, 0, 0.3));\n",
       "      fill: #FFFFFF;\n",
       "    }\n",
       "  </style>\n",
       "\n",
       "      <script>\n",
       "        const buttonEl =\n",
       "          document.querySelector('#df-18a79a0c-1294-4944-ab0d-13764ac315e0 button.colab-df-convert');\n",
       "        buttonEl.style.display =\n",
       "          google.colab.kernel.accessAllowed ? 'block' : 'none';\n",
       "\n",
       "        async function convertToInteractive(key) {\n",
       "          const element = document.querySelector('#df-18a79a0c-1294-4944-ab0d-13764ac315e0');\n",
       "          const dataTable =\n",
       "            await google.colab.kernel.invokeFunction('convertToInteractive',\n",
       "                                                     [key], {});\n",
       "          if (!dataTable) return;\n",
       "\n",
       "          const docLinkHtml = 'Like what you see? Visit the ' +\n",
       "            '<a target=\"_blank\" href=https://colab.research.google.com/notebooks/data_table.ipynb>data table notebook</a>'\n",
       "            + ' to learn more about interactive tables.';\n",
       "          element.innerHTML = '';\n",
       "          dataTable['output_type'] = 'display_data';\n",
       "          await google.colab.output.renderOutput(dataTable, element);\n",
       "          const docLink = document.createElement('div');\n",
       "          docLink.innerHTML = docLinkHtml;\n",
       "          element.appendChild(docLink);\n",
       "        }\n",
       "      </script>\n",
       "    </div>\n",
       "  </div>\n",
       "  "
      ],
      "text/plain": [
       "   Sea Surface  Oil Spill  Look-alike  Ship  Land     Filenames\n",
       "0            1          1           0     0     0  img_0001.jpg\n",
       "1            1          1           1     0     0  img_0002.jpg\n",
       "2            1          1           0     0     0  img_0003.jpg\n",
       "3            1          1           1     0     0  img_0004.jpg\n",
       "4            1          1           0     0     0  img_0005.jpg"
      ]
     },
     "execution_count": 7,
     "metadata": {},
     "output_type": "execute_result"
    }
   ],
   "source": [
    "df_train.head(5)"
   ]
  },
  {
   "cell_type": "code",
   "execution_count": null,
   "metadata": {
    "colab": {
     "base_uri": "https://localhost:8080/",
     "height": 206
    },
    "id": "dLjavZzLHs-k",
    "outputId": "e5560e38-e985-48c7-a2c3-2a8edc9af423"
   },
   "outputs": [
    {
     "data": {
      "text/html": [
       "\n",
       "  <div id=\"df-ede9a83b-58b9-4ce8-bcdf-a4e57917dd04\">\n",
       "    <div class=\"colab-df-container\">\n",
       "      <div>\n",
       "<style scoped>\n",
       "    .dataframe tbody tr th:only-of-type {\n",
       "        vertical-align: middle;\n",
       "    }\n",
       "\n",
       "    .dataframe tbody tr th {\n",
       "        vertical-align: top;\n",
       "    }\n",
       "\n",
       "    .dataframe thead th {\n",
       "        text-align: right;\n",
       "    }\n",
       "</style>\n",
       "<table border=\"1\" class=\"dataframe\">\n",
       "  <thead>\n",
       "    <tr style=\"text-align: right;\">\n",
       "      <th></th>\n",
       "      <th>Sea Surface</th>\n",
       "      <th>Oil Spill</th>\n",
       "      <th>Look-alike</th>\n",
       "      <th>Ship</th>\n",
       "      <th>Land</th>\n",
       "      <th>Filenames</th>\n",
       "    </tr>\n",
       "  </thead>\n",
       "  <tbody>\n",
       "    <tr>\n",
       "      <th>0</th>\n",
       "      <td>1</td>\n",
       "      <td>1</td>\n",
       "      <td>0</td>\n",
       "      <td>1</td>\n",
       "      <td>0</td>\n",
       "      <td>img_0001.jpg</td>\n",
       "    </tr>\n",
       "    <tr>\n",
       "      <th>1</th>\n",
       "      <td>1</td>\n",
       "      <td>0</td>\n",
       "      <td>1</td>\n",
       "      <td>0</td>\n",
       "      <td>1</td>\n",
       "      <td>img_0002.jpg</td>\n",
       "    </tr>\n",
       "    <tr>\n",
       "      <th>2</th>\n",
       "      <td>1</td>\n",
       "      <td>1</td>\n",
       "      <td>1</td>\n",
       "      <td>0</td>\n",
       "      <td>1</td>\n",
       "      <td>img_0003.jpg</td>\n",
       "    </tr>\n",
       "    <tr>\n",
       "      <th>3</th>\n",
       "      <td>1</td>\n",
       "      <td>0</td>\n",
       "      <td>1</td>\n",
       "      <td>0</td>\n",
       "      <td>0</td>\n",
       "      <td>img_0004.jpg</td>\n",
       "    </tr>\n",
       "    <tr>\n",
       "      <th>4</th>\n",
       "      <td>1</td>\n",
       "      <td>1</td>\n",
       "      <td>0</td>\n",
       "      <td>1</td>\n",
       "      <td>0</td>\n",
       "      <td>img_0005.jpg</td>\n",
       "    </tr>\n",
       "  </tbody>\n",
       "</table>\n",
       "</div>\n",
       "      <button class=\"colab-df-convert\" onclick=\"convertToInteractive('df-ede9a83b-58b9-4ce8-bcdf-a4e57917dd04')\"\n",
       "              title=\"Convert this dataframe to an interactive table.\"\n",
       "              style=\"display:none;\">\n",
       "        \n",
       "  <svg xmlns=\"http://www.w3.org/2000/svg\" height=\"24px\"viewBox=\"0 0 24 24\"\n",
       "       width=\"24px\">\n",
       "    <path d=\"M0 0h24v24H0V0z\" fill=\"none\"/>\n",
       "    <path d=\"M18.56 5.44l.94 2.06.94-2.06 2.06-.94-2.06-.94-.94-2.06-.94 2.06-2.06.94zm-11 1L8.5 8.5l.94-2.06 2.06-.94-2.06-.94L8.5 2.5l-.94 2.06-2.06.94zm10 10l.94 2.06.94-2.06 2.06-.94-2.06-.94-.94-2.06-.94 2.06-2.06.94z\"/><path d=\"M17.41 7.96l-1.37-1.37c-.4-.4-.92-.59-1.43-.59-.52 0-1.04.2-1.43.59L10.3 9.45l-7.72 7.72c-.78.78-.78 2.05 0 2.83L4 21.41c.39.39.9.59 1.41.59.51 0 1.02-.2 1.41-.59l7.78-7.78 2.81-2.81c.8-.78.8-2.07 0-2.86zM5.41 20L4 18.59l7.72-7.72 1.47 1.35L5.41 20z\"/>\n",
       "  </svg>\n",
       "      </button>\n",
       "      \n",
       "  <style>\n",
       "    .colab-df-container {\n",
       "      display:flex;\n",
       "      flex-wrap:wrap;\n",
       "      gap: 12px;\n",
       "    }\n",
       "\n",
       "    .colab-df-convert {\n",
       "      background-color: #E8F0FE;\n",
       "      border: none;\n",
       "      border-radius: 50%;\n",
       "      cursor: pointer;\n",
       "      display: none;\n",
       "      fill: #1967D2;\n",
       "      height: 32px;\n",
       "      padding: 0 0 0 0;\n",
       "      width: 32px;\n",
       "    }\n",
       "\n",
       "    .colab-df-convert:hover {\n",
       "      background-color: #E2EBFA;\n",
       "      box-shadow: 0px 1px 2px rgba(60, 64, 67, 0.3), 0px 1px 3px 1px rgba(60, 64, 67, 0.15);\n",
       "      fill: #174EA6;\n",
       "    }\n",
       "\n",
       "    [theme=dark] .colab-df-convert {\n",
       "      background-color: #3B4455;\n",
       "      fill: #D2E3FC;\n",
       "    }\n",
       "\n",
       "    [theme=dark] .colab-df-convert:hover {\n",
       "      background-color: #434B5C;\n",
       "      box-shadow: 0px 1px 3px 1px rgba(0, 0, 0, 0.15);\n",
       "      filter: drop-shadow(0px 1px 2px rgba(0, 0, 0, 0.3));\n",
       "      fill: #FFFFFF;\n",
       "    }\n",
       "  </style>\n",
       "\n",
       "      <script>\n",
       "        const buttonEl =\n",
       "          document.querySelector('#df-ede9a83b-58b9-4ce8-bcdf-a4e57917dd04 button.colab-df-convert');\n",
       "        buttonEl.style.display =\n",
       "          google.colab.kernel.accessAllowed ? 'block' : 'none';\n",
       "\n",
       "        async function convertToInteractive(key) {\n",
       "          const element = document.querySelector('#df-ede9a83b-58b9-4ce8-bcdf-a4e57917dd04');\n",
       "          const dataTable =\n",
       "            await google.colab.kernel.invokeFunction('convertToInteractive',\n",
       "                                                     [key], {});\n",
       "          if (!dataTable) return;\n",
       "\n",
       "          const docLinkHtml = 'Like what you see? Visit the ' +\n",
       "            '<a target=\"_blank\" href=https://colab.research.google.com/notebooks/data_table.ipynb>data table notebook</a>'\n",
       "            + ' to learn more about interactive tables.';\n",
       "          element.innerHTML = '';\n",
       "          dataTable['output_type'] = 'display_data';\n",
       "          await google.colab.output.renderOutput(dataTable, element);\n",
       "          const docLink = document.createElement('div');\n",
       "          docLink.innerHTML = docLinkHtml;\n",
       "          element.appendChild(docLink);\n",
       "        }\n",
       "      </script>\n",
       "    </div>\n",
       "  </div>\n",
       "  "
      ],
      "text/plain": [
       "   Sea Surface  Oil Spill  Look-alike  Ship  Land     Filenames\n",
       "0            1          1           0     1     0  img_0001.jpg\n",
       "1            1          0           1     0     1  img_0002.jpg\n",
       "2            1          1           1     0     1  img_0003.jpg\n",
       "3            1          0           1     0     0  img_0004.jpg\n",
       "4            1          1           0     1     0  img_0005.jpg"
      ]
     },
     "execution_count": 8,
     "metadata": {},
     "output_type": "execute_result"
    }
   ],
   "source": [
    "df_test.head(5)"
   ]
  },
  {
   "cell_type": "markdown",
   "metadata": {
    "id": "fwzX9rBgfnMW"
   },
   "source": [
    "I create an Histogram for each class of the training images, in order to understand their distribution."
   ]
  },
  {
   "cell_type": "code",
   "execution_count": null,
   "metadata": {
    "colab": {
     "base_uri": "https://localhost:8080/",
     "height": 621
    },
    "id": "1D7YQQkIfqrg",
    "outputId": "57428e6f-5436-4d48-f2bf-1b672f3abec7"
   },
   "outputs": [
    {
     "data": {
      "image/png": "[encoded data removed]",
      "text/plain": [
       "<Figure size 1080x720 with 6 Axes>"
      ]
     },
     "metadata": {
      "needs_background": "light"
     },
     "output_type": "display_data"
    }
   ],
   "source": [
    "cols = list(labels.values())#list of all the possible values\n",
    "\n",
    "f, axes = plt.subplots(2, 3, figsize=(15, 10))\n",
    "axes = axes.ravel()\n",
    "\n",
    "colors=[\"cornflowerblue\",\"maroon\",\"red\",\"gray\",\"seagreen\"]\n",
    "\n",
    "#create a histogram for each column\n",
    "for i in range(len(cols)):\n",
    "    axes[i].hist(df_train[cols[i]], color =colors[i]);\n",
    "    axes[i].set_title(cols[i])\n",
    "    axes[i].set_xlabel(\"Classes\")\n",
    "    axes[i].set_ylabel(\"Number of Values\")\n",
    "\n",
    "\n",
    "axes[-1].axis('off') #don't display th axes of the last plot\n",
    "plt.subplots_adjust(wspace=0.35, hspace=0.35) #adjust spaces between graphs\n",
    "plt.show()"
   ]
  },
  {
   "cell_type": "markdown",
   "metadata": {
    "id": "qlGkobRLfuMj"
   },
   "source": [
    "Since the bins are not the same height, it is evident that the class values in the images are highly unbalanced, especially for the '*Sea Surface*' class where the images that does not show the sea are few samples."
   ]
  },
  {
   "cell_type": "markdown",
   "metadata": {
    "id": "fYqBVfAZI4yw"
   },
   "source": [
    "# Data Augmentation"
   ]
  },
  {
   "cell_type": "markdown",
   "metadata": {
    "id": "YN-GWYfTbiUM"
   },
   "source": [
    "In this section I create generators of new images obtained by modifying those already present, in order to obtain a larger set of images to be submitted to the models during the training phase."
   ]
  },
  {
   "cell_type": "markdown",
   "metadata": {
    "id": "M67jrBNyfkyz"
   },
   "source": [
    "Image augmentation is a technique of applying different transformations to original images which results in multiple transformed copies of the same image. Each copy, however, is different from the other in certain aspects depending on the augmentation techniques. In this project I decided to apply a set of transformations, including rescaling, rotation, zoom, shifts, horizontal flip and changes of the brightness.\n",
    "\n",
    "These image augmentation techniques not only expand the size of the dataset but also incorporate a level of variation which allows the model to generalize better on unseen data. Also, the model becomes more robust when it is trained on new, slightly altered images."
   ]
  },
  {
   "cell_type": "code",
   "execution_count": null,
   "metadata": {
    "id": "gHvLOXNdbFFB"
   },
   "outputs": [],
   "source": [
    "rescale=1./255.;\n",
    "rotation_range = 10;\n",
    "width_shift_range=0.2; \n",
    "height_shift_range=0.2; \n",
    "zoom_range=0.2; \n",
    "horizontal_flip=True; \n",
    "brightness_range=[0.2,1.2];"
   ]
  },
  {
   "cell_type": "markdown",
   "metadata": {
    "id": "pRoa6sO3grHX"
   },
   "source": [
    "In order to achive Data Augmentation I use ***ImageDataGenerator***, provided by Keras.\n",
    "\n",
    "It provides a host of different augmentation techniques and real-time data augmentation. In fact, it generates augmented images on the fly while the model is still in the training stage, ensuring that the model receives new variations of the images at each epoch. ImageDataGenerator also requires lower memory usage, due to the fact that it loads the images in batches, which saves a lot of memory."
   ]
  },
  {
   "cell_type": "markdown",
   "metadata": {
    "id": "qYOmcBcwho4j"
   },
   "source": [
    "I produce two Generators, one is used for the training images and applies all the transformations, the other is used for the test images and applies only the rescailing operation, which is compulsory."
   ]
  },
  {
   "cell_type": "code",
   "execution_count": null,
   "metadata": {
    "id": "XCRRkFkRH4TG"
   },
   "outputs": [],
   "source": [
    "# ImageDataGenerator\n",
    "datagen = ImageDataGenerator(\n",
    "        rescale=rescale,\n",
    "        rotation_range=rotation_range, # rotation\n",
    "        width_shift_range=width_shift_range, # horizontal shift\n",
    "        height_shift_range=height_shift_range, # vertical shift\n",
    "        zoom_range=zoom_range, # zoom\n",
    "        horizontal_flip=horizontal_flip, # horizontal flip\n",
    "        brightness_range=brightness_range) # brightness\n",
    "\n",
    "#generator for test images\n",
    "test_datagen = ImageDataGenerator(rescale=rescale)"
   ]
  },
  {
   "cell_type": "markdown",
   "metadata": {
    "id": "z4VX5nHWItj1"
   },
   "source": [
    "Since the instances of the classes are very unbalanced I compute the weights of each sample to take into account during training.\n",
    "\n",
    "The method '*compute_sample_weight*' estimates sample weights by class."
   ]
  },
  {
   "cell_type": "code",
   "execution_count": null,
   "metadata": {
    "id": "2CcdOrxiIa2a"
   },
   "outputs": [],
   "source": [
    "weights = compute_sample_weight(class_weight='balanced', y = df_train.drop(columns = 'Filenames'))"
   ]
  },
  {
   "cell_type": "markdown",
   "metadata": {
    "id": "m_oOi1okvlei"
   },
   "source": [
    "As an example, this vector gives a higher weight to the items that do not contain '*Sea Surface*', due to the fact that the number of those items are much less than those that contain it."
   ]
  },
  {
   "cell_type": "code",
   "execution_count": null,
   "metadata": {
    "colab": {
     "base_uri": "https://localhost:8080/"
    },
    "id": "TCVe5Ncgw80F",
    "outputId": "458b39da-7699-4585-f9ec-892b9a5c210d"
   },
   "outputs": [
    {
     "name": "stdout",
     "output_type": "stream",
     "text": [
      "Random examples of items' weights without label 'Sea Surface': 241.633 and 241.633\n",
      "\n",
      "Random examples of items' weights with label 'Sea Surface': 0.178 and 0.279\n"
     ]
    }
   ],
   "source": [
    "print(f\"Random examples of items' weights without label 'Sea Surface': {weights[78]:0.3f} and {weights[302]:0.3f}\\n\")\n",
    "print(f\"Random examples of items' weights with label 'Sea Surface': {weights[1]:0.3f} and {weights[34]:0.3f}\")"
   ]
  },
  {
   "cell_type": "markdown",
   "metadata": {
    "id": "Q2Q1JaW1wPP5"
   },
   "source": [
    "After calculating the weight of each element, I add a column, called '*Weights*', to the training dataframe. This will be sent to the generator of images."
   ]
  },
  {
   "cell_type": "code",
   "execution_count": null,
   "metadata": {
    "id": "0E7z9RdnTKb-"
   },
   "outputs": [],
   "source": [
    "df_train_weighted = df_train.copy()\n",
    "df_train_weighted['Weights'] = weights"
   ]
  },
  {
   "cell_type": "markdown",
   "metadata": {
    "id": "UAx3YzxXJO5N"
   },
   "source": [
    "Finally, I create three Generators, the first is used to train the model, the second to evaluate the model during the training and the third to compare the predictions with the real values.\n",
    "\n",
    "Each Generator takes as parameter:\n",
    "* the DataFrame; \n",
    "* the path to the folder containing the images;\n",
    "* the name of the column of the DataFrame that contains the weights of the   samples;\n",
    "* the name of the column that contains the names of the images;\n",
    "* the number of batches for the training of the model;\n",
    "* the seed;\n",
    "* an indication of whether the order of the images should be shuffled;\n",
    "* the class mode;\n",
    "* the size of the target image."
   ]
  },
  {
   "cell_type": "code",
   "execution_count": null,
   "metadata": {
    "id": "gxB1TFJjb_ra"
   },
   "outputs": [],
   "source": [
    "#parameters\n",
    "random_seed = 42;\n",
    "batch_size_train = 64;\n",
    "batch_size_test = 1;\n",
    "image_size = (400,400);"
   ]
  },
  {
   "cell_type": "code",
   "execution_count": null,
   "metadata": {
    "id": "GBqPG7LnJM1s"
   },
   "outputs": [],
   "source": [
    "train_generator = datagen.flow_from_dataframe(\n",
    "  dataframe=df_train_weighted,\n",
    "  directory=dataset_path+'/train/images/',\n",
    "  weight_col=\"Weights\",\n",
    "  x_col=\"Filenames\",\n",
    "  y_col=cols,\n",
    "  batch_size=batch_size_train,\n",
    "  seed=random_seed,\n",
    "  shuffle=True,\n",
    "  class_mode=\"raw\",\n",
    "  target_size=image_size)\n",
    "\n",
    "valid_generator = test_datagen.flow_from_dataframe(\n",
    "  dataframe=df_test,\n",
    "  directory=dataset_path+'/test/images/',\n",
    "  x_col=\"Filenames\",\n",
    "  y_col=cols,\n",
    "  batch_size=batch_size_train,\n",
    "  seed=random_seed,\n",
    "  shuffle=True,\n",
    "  class_mode=\"raw\",\n",
    "  target_size=image_size)\n",
    "\n",
    "test_generator = test_datagen.flow_from_dataframe(\n",
    "  dataframe=df_test,\n",
    "  directory=dataset_path+'/test/images/',\n",
    "  x_col=\"Filenames\",\n",
    "  batch_size=batch_size_test,\n",
    "  seed=random_seed,\n",
    "  shuffle=False,\n",
    "  class_mode=None,\n",
    "  target_size=image_size)"
   ]
  },
  {
   "cell_type": "markdown",
   "metadata": {
    "id": "fkXqAxgPP5ke"
   },
   "source": [
    "# CNN Model creation"
   ]
  },
  {
   "cell_type": "markdown",
   "metadata": {
    "id": "sRfJ_K4A8nCv"
   },
   "source": [
    "In this section I create and preapare the **2D Convolutional Neural Network**."
   ]
  },
  {
   "cell_type": "markdown",
   "metadata": {
    "id": "8vhw1w_o9xgl"
   },
   "source": [
    "CNNs are a specialised kind of Neural Network for processing data\n",
    "that have a known grid-like topology:\n",
    "* Time series data (1D grid);\n",
    "* Image data (2D grid).\n",
    "\n",
    "CNNs employ a mathematical operation called convolution, extremely fast in computation.\n",
    "They are Neural Networks that use convolution in place of general matrix multiplication in at least one of their layers."
   ]
  },
  {
   "cell_type": "markdown",
   "metadata": {
    "id": "oEtnl756-fpt"
   },
   "source": [
    "I use the Sequential model of Keras, which allows to create models layer-by-layer. \n",
    "\n",
    "So, I create a function, called *createModel*, that creates a model composed by 4 Convolutional layers, 2 deeply connected neural network layers and 1 final output layer.\n",
    "\n",
    "To increase the stability of the neural network I use the *BatchNormalization* method, which normalizes the output of a previous activation layer by subtracting the batch mean and dividing by the batch standard deviation.\n",
    "\n",
    "I use *Dropout* method to avoid the over-fitting. It is a regularization method. The value passed in *Dropout* specifies the probability at which outputs of the layer are dropped out.\n",
    "\n",
    "Lastly, I use *Dense*, which is the regular deeply connected neural network layer. Even if here I have 5 outputs, I still use the activation function 'sigmoid', and not the softmax function, because the target variable *y* has 1 and 0 values.\n",
    "\n",
    "The output layer has 5 neurons, equal to the number of classes."
   ]
  },
  {
   "cell_type": "code",
   "execution_count": null,
   "metadata": {
    "id": "pc-YU5t3LxDO"
   },
   "outputs": [],
   "source": [
    "def createModel():\n",
    "  #A Sequential model is appropriate for a plain stack of layers where each layer has exactly one input tensor and one output tensor.\n",
    "  model = Sequential()\n",
    "\n",
    "  #FIRST LAYER\n",
    "  #The input_shape specifies the shape of the input. It is a necessary parameter for the first layer in any neural network.   \n",
    "  #I only use the input_shape in the first layer.\n",
    "  #ReLU is a piece wise linear function that will output the input directly if it is positive, otherwise, it will give the output as zero\n",
    "  model.add(Conv2D(filters=16, kernel_size=(5, 5), activation=\"relu\", input_shape=(400, 400, 3)))\n",
    "  model.add(BatchNormalization())\n",
    "  model.add(MaxPooling2D(pool_size=(2, 2)))\n",
    "  model.add(Dropout(0.25))\n",
    "\n",
    "  #SECOND LAYER\n",
    "  model.add(Conv2D(filters=32, kernel_size=(5, 5), activation='relu'))\n",
    "  model.add(BatchNormalization())\n",
    "  model.add(MaxPooling2D(pool_size=(2, 2)))\n",
    "  model.add(Dropout(0.25))\n",
    "\n",
    "  #THIRD LAYER\n",
    "  model.add(Conv2D(filters=64, kernel_size=(5, 5), activation=\"relu\"))\n",
    "  model.add(BatchNormalization())\n",
    "  model.add(MaxPooling2D(pool_size=(2, 2)))\n",
    "  model.add(Dropout(0.25))\n",
    "\n",
    "  #FOURTH LAYER\n",
    "  model.add(Conv2D(filters=64, kernel_size=(5, 5), activation='relu'))\n",
    "  model.add(BatchNormalization())\n",
    "  model.add(MaxPooling2D(pool_size=(2, 2)))\n",
    "  model.add(Dropout(0.25))\n",
    "\n",
    "  #Flatten() is used to convert the data into a one-dimensional array for the further process\n",
    "  model.add(Flatten())\n",
    "  \n",
    "  model.add(Dense(64, activation='relu'))\n",
    "  model.add(BatchNormalization())\n",
    "  model.add(Dropout(0.5))\n",
    "\n",
    "  model.add(Dense(128, activation='relu'))\n",
    "  model.add(BatchNormalization())\n",
    "  model.add(Dropout(0.5))\n",
    "  \n",
    "  model.add(Dense(5, activation='sigmoid'))\n",
    "\n",
    "  return model"
   ]
  },
  {
   "cell_type": "markdown",
   "metadata": {
    "id": "kN7GNfh-2i8D"
   },
   "source": [
    "Then I call the function to create the model."
   ]
  },
  {
   "cell_type": "code",
   "execution_count": null,
   "metadata": {
    "id": "1InGwTmcQDK3"
   },
   "outputs": [],
   "source": [
    "model = createModel()"
   ]
  },
  {
   "cell_type": "markdown",
   "metadata": {
    "id": "4XChcctZQHjh"
   },
   "source": [
    "Now I compile the model, using *binary_crossentropy* as the loss and *ADAM* as the optimizer.\n",
    "\n",
    "I also create the list of metrics, provided by Keras, on which the model should train and improve. \n",
    "\n",
    "Since the data are very unbalanced, I decided to consider also precision, recall, f1-score and support measures as metrics. In fact, It is not unusual to observe a high evaluation accuracy when testing a classification model trained on very imbalanced data. In such cases, the accuracy is only reflecting the underlying class distribution.\n",
    "\n",
    "AUC metric refers to the area under the curve of a receiver operating characteristic curve (ROC-AUC). This metric equals the probability that a classifier will rank a random positive sample higher than a random negative sample.\n",
    "\n",
    "AUPRC metric refers to the area under the curve of the precision recall curve. This metric calculates the precision recall pairs for different probability thresholds."
   ]
  },
  {
   "cell_type": "code",
   "execution_count": null,
   "metadata": {
    "id": "yM8ph22dQQSh"
   },
   "outputs": [],
   "source": [
    "TRAIN_METRICS = [\n",
    "      keras.metrics.TruePositives(name='tp'),\n",
    "      keras.metrics.FalsePositives(name='fp'),\n",
    "      keras.metrics.TrueNegatives(name='tn'),\n",
    "      keras.metrics.FalseNegatives(name='fn'), \n",
    "      keras.metrics.BinaryAccuracy(name='accuracy'),\n",
    "      keras.metrics.Precision(name='precision'),\n",
    "      keras.metrics.Recall(name='recall'),\n",
    "      keras.metrics.AUC(name='auc'),\n",
    "      keras.metrics.AUC(name='prc', curve='PR'), # precision-recall curve\n",
    "]\n",
    "\n",
    "model.compile(optimizer= 'adam', loss='binary_crossentropy', metrics=TRAIN_METRICS)"
   ]
  },
  {
   "cell_type": "markdown",
   "metadata": {
    "id": "woWJL_HYQdTP"
   },
   "source": [
    "# Training the model"
   ]
  },
  {
   "cell_type": "markdown",
   "metadata": {
    "id": "GLP0wHvRJmxV"
   },
   "source": [
    "In this section I train the model, created in the previous section, passing to it the train images generator and the test images generator as validation data, which are data on which to evaluate the loss and any metrics of the model at the end of each epoch. The model will not be trained on the valuation data."
   ]
  },
  {
   "cell_type": "code",
   "execution_count": null,
   "metadata": {
    "id": "7y7KUO56d7FS"
   },
   "outputs": [],
   "source": [
    "number_of_ephocs = 40;"
   ]
  },
  {
   "cell_type": "code",
   "execution_count": null,
   "metadata": {
    "id": "uPTj3evAQeD4"
   },
   "outputs": [],
   "source": [
    "# Start the stopwatch / counter\n",
    "t1_start = perf_counter()\n",
    "\n",
    "STEP_SIZE_TRAIN=train_generator.n//train_generator.batch_size\n",
    "STEP_SIZE_VALID=valid_generator.n//valid_generator.batch_size\n",
    "STEP_SIZE_TEST=test_generator.n//test_generator.batch_size\n",
    "\n",
    "model.fit(train_generator, epochs = number_of_ephocs, validation_data=valid_generator, steps_per_epoch=STEP_SIZE_TRAIN, validation_steps=STEP_SIZE_VALID)\n",
    "\n",
    "# Stop the stopwatch / counter\n",
    "t1_stop = perf_counter()"
   ]
  },
  {
   "cell_type": "code",
   "execution_count": null,
   "metadata": {
    "colab": {
     "base_uri": "https://localhost:8080/"
    },
    "id": "J83IyNHRthxG",
    "outputId": "75b428af-061e-4f42-d67f-79198c22131d"
   },
   "outputs": [
    {
     "name": "stdout",
     "output_type": "stream",
     "text": [
      "Elapsed time in seconds: 2724.906364407\n"
     ]
    }
   ],
   "source": [
    "print(\"Elapsed time in seconds:\",t1_stop-t1_start)"
   ]
  },
  {
   "cell_type": "markdown",
   "metadata": {
    "id": "6LK2sNaS_AOg"
   },
   "source": [
    "# Plots"
   ]
  },
  {
   "cell_type": "markdown",
   "metadata": {
    "id": "aXDtfvpTK6QG"
   },
   "source": [
    "In this section I plot the graph of Loss and Accuracy of the trained model."
   ]
  },
  {
   "cell_type": "markdown",
   "metadata": {
    "id": "74hEgaGH_B1Y"
   },
   "source": [
    "To do this, I create two functions, one to plot the Loss and one to plot the Accuracy of the model. These functions take as argument the model's history which contains lists of subsequent losses and accuracies values for both training and validation data."
   ]
  },
  {
   "cell_type": "code",
   "execution_count": null,
   "metadata": {
    "id": "SxRN_7gB_HbE"
   },
   "outputs": [],
   "source": [
    "def plotLoss(history):\n",
    "  plt.figure(figsize=(10,7))\n",
    "  plt.plot(history['loss'],color='b', label='Training Loss');\n",
    "  plt.plot(history['val_loss'],color='r', label='Validation Loss');\n",
    "  plt.legend()\n",
    "  plt.ylim(bottom=0)\n",
    "  plt.xlabel('Epochs')\n",
    "  plt.ylabel('Loss')\n",
    "  plt.title(\"Model's Loss\", fontsize = 17)\n",
    "  plt.show();\n",
    "\n",
    "def plotAccuracy(history):\n",
    "  plt.figure(figsize=(10,7))\n",
    "  plt.plot(history['accuracy'],color='b', label='Training Accuracy')\n",
    "  plt.plot(history['val_accuracy'],color='r', label='Validation Accuracy');\n",
    "  plt.legend()\n",
    "  plt.ylim([0,1])\n",
    "  plt.xlabel('Epochs')\n",
    "  plt.ylabel('Accuracy')\n",
    "  plt.title(\"Model's Accuracy\", fontsize = 17)\n",
    "  plt.show();"
   ]
  },
  {
   "cell_type": "code",
   "execution_count": null,
   "metadata": {
    "id": "tktEQtD2_RoM"
   },
   "outputs": [],
   "source": [
    "#get the hostory\n",
    "hist_m = model.history.history"
   ]
  },
  {
   "cell_type": "code",
   "execution_count": null,
   "metadata": {
    "colab": {
     "base_uri": "https://localhost:8080/",
     "height": 462
    },
    "id": "qQ8sucMO_KaM",
    "outputId": "e43e1716-74d1-4dfc-bfe5-1d9f98c300f7"
   },
   "outputs": [
    {
     "data": {
      "image/png": "[encoded data removed]",
      "text/plain": [
       "<Figure size 720x504 with 1 Axes>"
      ]
     },
     "metadata": {
      "needs_background": "light"
     },
     "output_type": "display_data"
    }
   ],
   "source": [
    "#Plotting the Loss\n",
    "plotLoss(hist_m)"
   ]
  },
  {
   "cell_type": "code",
   "execution_count": null,
   "metadata": {
    "colab": {
     "base_uri": "https://localhost:8080/",
     "height": 462
    },
    "id": "mNEnxO1w_Vky",
    "outputId": "87523d98-ed4f-4bdf-b6c0-4d65660161b0"
   },
   "outputs": [
    {
     "data": {
      "image/png": "[encoded data removed]",
      "text/plain": [
       "<Figure size 720x504 with 1 Axes>"
      ]
     },
     "metadata": {
      "needs_background": "light"
     },
     "output_type": "display_data"
    }
   ],
   "source": [
    "#Plotting the Accuracy\n",
    "plotAccuracy(hist_m)"
   ]
  },
  {
   "cell_type": "markdown",
   "metadata": {
    "id": "TRyxtYzNnxfg"
   },
   "source": [
    "From the graphs it is clear that the values for Loss and Accuracy are not satisfactory at all, but this is due to the unbalanced distribution of classes. In fact, as already announced, when we test a classification model trained on very imbalanced data, those values might not reflect the real potential of the model.\n",
    "\n",
    "This is the reason why in the following section I test the model on different parameters."
   ]
  },
  {
   "cell_type": "markdown",
   "metadata": {
    "id": "rOgOzn4iufBS"
   },
   "source": [
    "# Model Evaluation"
   ]
  },
  {
   "cell_type": "markdown",
   "metadata": {
    "id": "Nmba3L-eOnap"
   },
   "source": [
    "In this section I evaluate the results of the trained model on the test set."
   ]
  },
  {
   "cell_type": "markdown",
   "metadata": {
    "id": "nWA498ZvUJNQ"
   },
   "source": [
    "The items can be correctly and incorrectly classified into:\n",
    "* True positive (TP): Correctly predicting the positive class;\n",
    "* True Negative (TN): Correctly predicting the negative class;\n",
    "* False Positive (FP): Incorrectly predicting the positive class;\n",
    "* False Negative (FN): Incorrectly predicting the negative class;\n",
    "\n",
    "So, for example, if an image contains '*Sea Surface*' and the model correctly predicts it, it is True Positive, while if the model predicts that the image does not contain '*Sea Surface*', it is False Negative. So in this case positive class is 1, meaning that the image belongs to that class, while negative class is 0, meaning that it does not belong to that class."
   ]
  },
  {
   "cell_type": "markdown",
   "metadata": {
    "id": "2nO-9f8ISOPF"
   },
   "source": [
    "Accuracy does not provide the full picture of the model's predictive ability. This is why I consider other metrics, which are more accurate in this case:\n",
    "* **Precision**, calculated as $\\frac{TP}{TP + FP}$, which is a measure of how many of the positive predictions made are correct;\n",
    "\n",
    "* **Recall**, calculated as $\\frac{TP}{TP + FN}$, which is a measure of how many of the positive cases the classifier correctly predicted, over all the positive cases in the data; \n",
    "\n",
    "* **F1 score**, calsuated as $\\frac{2 * Precison * Recall}{Precision + Recall}$. The idea is to provide a single metric that weights the two ratios (precision and recall) in a balanced way, requiring both to have a higher value for the F1-score value to rise. It is much more sensitive to one of the two inputs having a low value.\n"
   ]
  },
  {
   "cell_type": "markdown",
   "metadata": {
    "id": "LaJthz6GmKOL"
   },
   "source": [
    "I create a function called *getResults*, that returns a dataframe containing the predictions on the images and returns also the classification reports of the predictions.\n",
    "It takes as parameters a generator of images, a model, the step_size and a boolean value used to indicate wheter the classification report must be a dictionary.  "
   ]
  },
  {
   "cell_type": "code",
   "execution_count": null,
   "metadata": {
    "id": "i4ze-wGFuEe3"
   },
   "outputs": [],
   "source": [
    "def getResults(generator, model, step_size, output_dict):\n",
    "  generator.reset()\n",
    "\n",
    "  #Get predictions of the model on the test set.\n",
    "  pred = model.predict(generator, steps=step_size, verbose=1)\n",
    "\n",
    "  #get dataframe of the results\n",
    "  pred_bool = (pred >0.5)\n",
    "  predictions = pred_bool.astype(int)\n",
    "\n",
    "  #create dataframe\n",
    "  results = pd.DataFrame(predictions, columns=cols)\n",
    "  results[\"Filenames\"] = generator.filenames\n",
    "  ordered_cols = [\"Filenames\"]+cols\n",
    "  results = results[ordered_cols]#To get the same column order\n",
    "\n",
    "  #create the classification report to obtain all the measurements to evaluate a multilabel model\n",
    "  rep = classification_report(\n",
    "    df_test.drop(columns='Filenames'), \n",
    "    results.drop(columns='Filenames'),\n",
    "    output_dict=output_dict,\n",
    "    target_names=cols\n",
    "  )\n",
    "\n",
    "  return results, rep"
   ]
  },
  {
   "cell_type": "markdown",
   "metadata": {
    "id": "9A_0JqFXntkl"
   },
   "source": [
    "Another very powerful tool in evaluating data belonging to multiple classes is the **Confusion Matrix**.\n",
    "\n",
    "A Confusion Matrix is a matrix that shows the number of True Positive, True Negatives, False Positives and False Negatives of the classified elements, referring to a specific class."
   ]
  },
  {
   "cell_type": "markdown",
   "metadata": {
    "id": "S9LXQacu2_EF"
   },
   "source": [
    "In order to obtain the Confusion Matrices of the five classes, I create a function that takes the dataframe containing the predictions and prints a graph containing the Confusion Matrices."
   ]
  },
  {
   "cell_type": "code",
   "execution_count": null,
   "metadata": {
    "id": "7HlMn-A1v_pM"
   },
   "outputs": [],
   "source": [
    "def printConfusionMatrices(results):\n",
    "  f, axes = plt.subplots(2, 3, figsize=(25, 15))\n",
    "  axes = axes.ravel()\n",
    "\n",
    "  #create a matrix for each column\n",
    "  for i in range(len(cols)):\n",
    "      disp = ConfusionMatrixDisplay(confusion_matrix(df_test.drop(columns='Filenames').iloc[:, i],\n",
    "                                                    results.drop(columns='Filenames').iloc[:, i]),\n",
    "                                    display_labels=[0, 1])\n",
    "      disp.plot(ax=axes[i], values_format='.4g')\n",
    "      disp.ax_.set_title(cols[i])\n",
    "      disp.im_.colorbar.remove()\n",
    "\n",
    "  axes[-1].axis('off') #don't display th axes of the last plot\n",
    "  plt.subplots_adjust(hspace=0.2)\n",
    "  f.colorbar(disp.im_, ax=axes)\n",
    "  plt.show()"
   ]
  },
  {
   "cell_type": "markdown",
   "metadata": {
    "id": "dt6f7hNC7jHC"
   },
   "source": [
    "Now I get the predictions of the model on the test set."
   ]
  },
  {
   "cell_type": "code",
   "execution_count": null,
   "metadata": {
    "id": "dPT5zHxr5Kwr"
   },
   "outputs": [],
   "source": [
    "res, rep = getResults(test_generator, model, STEP_SIZE_TEST, False)"
   ]
  },
  {
   "cell_type": "markdown",
   "metadata": {
    "id": "9iLE1rUfsh1W"
   },
   "source": [
    "The variable *res* contains the dataframe with the results, while the variable *rep* contains the classification report,"
   ]
  },
  {
   "cell_type": "markdown",
   "metadata": {
    "id": "16j6eDOnlp1s"
   },
   "source": [
    "In the classification report the Support is the number of occurrences of each class in the test images."
   ]
  },
  {
   "cell_type": "code",
   "execution_count": null,
   "metadata": {
    "colab": {
     "base_uri": "https://localhost:8080/"
    },
    "id": "PJ4IzfsNfHW_",
    "outputId": "f233fcf4-7dd0-4139-cf14-775fad83f817"
   },
   "outputs": [
    {
     "name": "stdout",
     "output_type": "stream",
     "text": [
      "              precision    recall  f1-score   support\n",
      "\n",
      " Sea Surface       1.00      0.75      0.85       110\n",
      "   Oil Spill       0.83      0.74      0.78        88\n",
      "  Look-alike       0.52      0.75      0.61        55\n",
      "        Ship       0.32      0.68      0.44        34\n",
      "        Land       0.26      0.35      0.30        26\n",
      "\n",
      "   micro avg       0.64      0.70      0.67       313\n",
      "   macro avg       0.59      0.65      0.60       313\n",
      "weighted avg       0.73      0.70      0.70       313\n",
      " samples avg       0.56      0.70      0.60       313\n",
      "\n"
     ]
    }
   ],
   "source": [
    "print(rep)"
   ]
  },
  {
   "cell_type": "markdown",
   "metadata": {
    "id": "dS7Qv18a3IlN"
   },
   "source": [
    "The Precision values are high for '*Sea Surface*' and '*Oil Spill*' classes while relatively low for the other classes, in particular '*Land*'. The Recall values are generally quite high, except for '*Land*' class. This produces quite satisfactory F1-scores for '*Sea Surface*' and '*Oil Spill*' classes, while unsatisfactory values for the others. Therefore, the model is not particularly good at predicting all the classes to which each image belongs.\n",
    "\n",
    "However, being the focus of the project on the '*Oil Spill*' class, as the goal is to predict oil spills, the particularly low values for the other classes are not a big problem. Clearly the model must be improved."
   ]
  },
  {
   "cell_type": "code",
   "execution_count": null,
   "metadata": {
    "colab": {
     "base_uri": "https://localhost:8080/",
     "height": 856
    },
    "id": "0Kxb5eBbiByg",
    "outputId": "1fe06bc2-d17c-4979-c165-27bd94d6756f"
   },
   "outputs": [
    {
     "data": {
      "image/png": "[encoded data removed]",
      "text/plain": [
       "<Figure size 1800x1080 with 7 Axes>"
      ]
     },
     "metadata": {
      "needs_background": "light"
     },
     "output_type": "display_data"
    }
   ],
   "source": [
    "printConfusionMatrices(res)"
   ]
  },
  {
   "cell_type": "markdown",
   "metadata": {
    "id": "8R8qil_jtZYV"
   },
   "source": [
    "The matrices show the number of wrong and correct predictions of the model. It is possible to see that the predictions on the test set are not very accurate, as the values of wrong predictions are very high. In fact, the sums of correctly predicted values and the sums of incorrectly predicted values are, for the last three classes, almost equivalent, or the latter are slightly higher, so the improvement index is high."
   ]
  },
  {
   "cell_type": "markdown",
   "metadata": {
    "id": "Vutm7reGLKsO"
   },
   "source": [
    "# Noise introduction"
   ]
  },
  {
   "cell_type": "markdown",
   "metadata": {
    "id": "pnwT5H9NLOkZ"
   },
   "source": [
    "In this section I introduce noise in the test set to test how much the trained model is robust."
   ]
  },
  {
   "cell_type": "markdown",
   "metadata": {
    "id": "N8hXVbvSLjql"
   },
   "source": [
    "I create a class called *AddNoise* that takes as parameters, during its creation, the image to elaborate and the level of variability of the noise to apply to the image. Then, when it is called, it applies a gaussian noise influenced by the variability. "
   ]
  },
  {
   "cell_type": "code",
   "execution_count": null,
   "metadata": {
    "id": "P2SicO98R_2Y"
   },
   "outputs": [],
   "source": [
    "class AddNoise():\n",
    "    def __init__(self, variability=50):\n",
    "        self.var = variability\n",
    "    def __call__(self, img):\n",
    "        deviation = self.var**0.5\n",
    "        noise = np.random.normal(0, deviation, img.shape) #0 is the mean\n",
    "        img += noise\n",
    "        np.clip(img, 0., 255.)\n",
    "        return img"
   ]
  },
  {
   "cell_type": "markdown",
   "metadata": {
    "id": "KE0nVCS5yu6F"
   },
   "source": [
    "An instance of the class *AddNoise* is passed to the function *ImageDataGenerator* to create a generator that applies noise to the image that it creates. "
   ]
  },
  {
   "cell_type": "code",
   "execution_count": null,
   "metadata": {
    "id": "euhuohA4LN-B"
   },
   "outputs": [],
   "source": [
    "def createNoiseGenerator(variability, image_size):\n",
    "  # ImageDataGenerator to introduce new images affected by noise\n",
    "  datagenNoise = ImageDataGenerator(rescale=rescale, preprocessing_function=AddNoise(variability))#noise\n",
    "\n",
    "  return datagenNoise.flow_from_dataframe(\n",
    "    dataframe=df_test,\n",
    "    directory=dataset_path+'/test/images/',\n",
    "    x_col=\"Filenames\",\n",
    "    batch_size=batch_size_test,\n",
    "    seed=random_seed,\n",
    "    shuffle=False,\n",
    "    class_mode=None,\n",
    "    target_size=image_size)"
   ]
  },
  {
   "cell_type": "markdown",
   "metadata": {
    "id": "O6ATE_jnpmFR"
   },
   "source": [
    "I create a function that prints five Line Charts, one for each class, in order to show the changes of the Precision, Recall and F1-score of the model on images subjected to a gradually increasing variability of noise. \n",
    "\n",
    "This function, called *printNoiseResults*, takes as parameters a dictionary containing all the values of the evaluation metrics, the list of the classes, the list of the metrics and the range of the noise variability on which the model was tested."
   ]
  },
  {
   "cell_type": "code",
   "execution_count": null,
   "metadata": {
    "id": "D7QEEAmeplUA"
   },
   "outputs": [],
   "source": [
    "def printNoiseResults(res_dict, classes, metrics, range_variability):\n",
    "  f, axes = plt.subplots(2, 3, figsize=(25, 15))\n",
    "  axes = axes.ravel()\n",
    "\n",
    "  for c, i in zip(classes, range(len(classes))):\n",
    "    y_dict = {}\n",
    "\n",
    "    for m in metrics:\n",
    "      t=[]\n",
    "      for j in range(len(res_dict)):\n",
    "        t.append(res_dict[j][c][m])\n",
    "\n",
    "      axes[i].plot(range_variability,t, label=m);\n",
    "      \n",
    "    axes[i].set_ylim([0,1.1])  \n",
    "    axes[i].legend()\n",
    "    axes[i].set_xlabel('Noise variability')\n",
    "    axes[i].set_title(c, fontsize = 17)\n",
    "\n",
    "  axes[-1].axis('off') #don't display th axes of the last plot\n",
    "  plt.subplots_adjust( hspace=0.35) #adjust spaces between graphs\n",
    "  plt.show();"
   ]
  },
  {
   "cell_type": "markdown",
   "metadata": {
    "id": "RgQh__BxLv3b"
   },
   "source": [
    "The range of noise variability that I test goes from 40 to 130, increasing by 10 each time."
   ]
  },
  {
   "cell_type": "code",
   "execution_count": null,
   "metadata": {
    "id": "yJt9qSa2p41J"
   },
   "outputs": [],
   "source": [
    "range_variability = range(40, 130, 10);"
   ]
  },
  {
   "cell_type": "markdown",
   "metadata": {
    "id": "Z3A6m0W72ZS6"
   },
   "source": [
    "For every value of noise variability in the range I create a new generator, compute the stepsize and call the function *getResults* to obtain the predictions of the model."
   ]
  },
  {
   "cell_type": "code",
   "execution_count": null,
   "metadata": {
    "id": "74sspZWRp-2n"
   },
   "outputs": [],
   "source": [
    "res_dict = []\n",
    "for i in range_variability:\n",
    "  test_generator_noise = createNoiseGenerator(i, image_size);\n",
    "  step = test_generator_noise.n//test_generator_noise.batch_size\n",
    "  res_noise, rep_noise = getResults(test_generator_noise, model, step, True);\n",
    "  res_dict.append(rep_noise);"
   ]
  },
  {
   "cell_type": "code",
   "execution_count": null,
   "metadata": {
    "id": "pHwSv0hgqlOF"
   },
   "outputs": [],
   "source": [
    "metrics_eval = ['f1-score', 'precision', 'recall']"
   ]
  },
  {
   "cell_type": "code",
   "execution_count": null,
   "metadata": {
    "colab": {
     "base_uri": "https://localhost:8080/",
     "height": 897
    },
    "id": "xQ2kezghqmj2",
    "outputId": "6abda490-e4d1-401c-e277-0be945e57c93"
   },
   "outputs": [
    {
     "data": {
      "image/png": "[encoded data removed]",
      "text/plain": [
       "<Figure size 1800x1080 with 6 Axes>"
      ]
     },
     "metadata": {
      "needs_background": "light"
     },
     "output_type": "display_data"
    }
   ],
   "source": [
    "printNoiseResults(res_dict, cols, metrics_eval, range_variability);"
   ]
  },
  {
   "cell_type": "markdown",
   "metadata": {
    "id": "6ZUjjlIr9hg3"
   },
   "source": [
    "The Precison and Recall values generally remain stable for all five classes. This causes also the stability for the F1-score. \n",
    "\n",
    "Therefore, we can see that the model is robust to noise since the values of the evaluation metrics do not decrease much."
   ]
  },
  {
   "cell_type": "markdown",
   "metadata": {
    "id": "0_muGv_pN8PY"
   },
   "source": [
    "Then I print the Confusion Matrices of the results with noise variability equal to 130 to compare them with the matrices obtained on images without noise."
   ]
  },
  {
   "cell_type": "code",
   "execution_count": null,
   "metadata": {
    "colab": {
     "base_uri": "https://localhost:8080/",
     "height": 856
    },
    "id": "aIYCClwwN7YX",
    "outputId": "f3d49b41-46b6-4c55-9341-8390c79f17b8"
   },
   "outputs": [
    {
     "data": {
      "image/png": "[encoded data removed]",
      "text/plain": [
       "<Figure size 1800x1080 with 7 Axes>"
      ]
     },
     "metadata": {
      "needs_background": "light"
     },
     "output_type": "display_data"
    }
   ],
   "source": [
    "printConfusionMatrices(res_noise)"
   ]
  },
  {
   "cell_type": "markdown",
   "metadata": {
    "id": "Vilt3zFrkdpg"
   },
   "source": [
    "Comparing the confusion matrices of the model predictions on images without and with noise, it is possible to notice that the values of True Positive and True Negative do not vary much, indeed they are sometimes greater for images affected by noise.\n",
    "\n",
    "This indeed confirms the fact that the model is robust to noise."
   ]
  },
  {
   "cell_type": "markdown",
   "metadata": {
    "id": "1GnNw8QOTQLa"
   },
   "source": [
    "# Transfer Learning"
   ]
  },
  {
   "cell_type": "markdown",
   "metadata": {
    "id": "r_3EPP-JkouZ"
   },
   "source": [
    "In this section I use the Transfer Learning technique to obtain a more precise model."
   ]
  },
  {
   "cell_type": "markdown",
   "metadata": {
    "id": "W_54xvXglZnd"
   },
   "source": [
    "Since the set of images provided is relatively small to obtain a good model I use the Transfer Learning technique, a machine learning method where a model developed for a task is reused as the starting point for a model on a second task. "
   ]
  },
  {
   "cell_type": "markdown",
   "metadata": {
    "id": "6iwQfBKAlhhj"
   },
   "source": [
    "I use a model trained on the ImageNet dataset, provided by tensorflow hub. \n",
    "\n",
    "ImageNet is an image dataset organized according to the WordNet hierarchy. Each meaningful concept in WordNet, possibly described by multiple words or word phrases, is called a \"synonym set\" or \"synset\". There are more than 100,000 synsets in WordNet; the majority of them are nouns. In ImageNet provide on average 1000 images to illustrate each synset. Images of each concept are quality-controlled and human-annotated. "
   ]
  },
  {
   "cell_type": "code",
   "execution_count": null,
   "metadata": {
    "id": "T4aaN3nYTSey"
   },
   "outputs": [],
   "source": [
    "#link to the model\n",
    "feature_extractor_url = \"https://tfhub.dev/google/imagenet/mobilenet_v2_100_224/feature_vector/5\"\n",
    "\n",
    "feature_extractor_layer = hub.KerasLayer(feature_extractor_url,\n",
    "                                         input_shape=(224, 224, 3)) #the dimension of the images on which the model was trained"
   ]
  },
  {
   "cell_type": "markdown",
   "metadata": {
    "id": "fdkFgf52TmRw"
   },
   "source": [
    "I freeze the variables in the feature extractor layer, so that the training only modifies the new classification layers."
   ]
  },
  {
   "cell_type": "code",
   "execution_count": null,
   "metadata": {
    "id": "2GQFI3oXTfjO"
   },
   "outputs": [],
   "source": [
    "feature_extractor_layer.trainable = False"
   ]
  },
  {
   "cell_type": "markdown",
   "metadata": {
    "id": "lLkg4aEoTjSb"
   },
   "source": [
    "Now, I wrap the feature extractor layer in a tf.keras.Sequential model and add new layers on top."
   ]
  },
  {
   "cell_type": "code",
   "execution_count": null,
   "metadata": {
    "id": "ujwoLRNSToGS"
   },
   "outputs": [],
   "source": [
    "model_t = Sequential([\n",
    "    feature_extractor_layer,\n",
    "    Dense(1024, activation='relu', name='hidden_layer'),\n",
    "    Dense(5, activation='sigmoid', name='output')\n",
    "])"
   ]
  },
  {
   "cell_type": "code",
   "execution_count": null,
   "metadata": {
    "colab": {
     "base_uri": "https://localhost:8080/"
    },
    "id": "dWu0mmQcT8HM",
    "outputId": "0d133670-0a05-4f3f-e754-afdf504fe356"
   },
   "outputs": [
    {
     "name": "stdout",
     "output_type": "stream",
     "text": [
      "Model: \"sequential_1\"\n",
      "_________________________________________________________________\n",
      " Layer (type)                Output Shape              Param #   \n",
      "=================================================================\n",
      " keras_layer (KerasLayer)    (None, 1280)              2257984   \n",
      "                                                                 \n",
      " hidden_layer (Dense)        (None, 1024)              1311744   \n",
      "                                                                 \n",
      " output (Dense)              (None, 5)                 5125      \n",
      "                                                                 \n",
      "=================================================================\n",
      "Total params: 3,574,853\n",
      "Trainable params: 1,316,869\n",
      "Non-trainable params: 2,257,984\n",
      "_________________________________________________________________\n"
     ]
    }
   ],
   "source": [
    "model_t.summary()"
   ]
  },
  {
   "cell_type": "markdown",
   "metadata": {
    "id": "lXAsKsXjUBe2"
   },
   "source": [
    "The 2.2 Millions parameters in MobileNet are frozen, but there are 1.3K trainable parameters in the dense layers."
   ]
  },
  {
   "cell_type": "markdown",
   "metadata": {
    "id": "aT_sdDx0mF3K"
   },
   "source": [
    "Then I create three new generators for the images since the size of the accepted images for the new model is (224,224,3)."
   ]
  },
  {
   "cell_type": "code",
   "execution_count": null,
   "metadata": {
    "id": "7DWEmUlze7o-"
   },
   "outputs": [],
   "source": [
    "image_size_tl = (224,224);"
   ]
  },
  {
   "cell_type": "code",
   "execution_count": null,
   "metadata": {
    "id": "uQ6OWp73UySq"
   },
   "outputs": [],
   "source": [
    "datagen_t = ImageDataGenerator(rescale=rescale)\n",
    "\n",
    "train_generator_t = datagen_t.flow_from_dataframe(\n",
    "  dataframe=df_train_weighted,\n",
    "  directory=dataset_path+'/train/images/',\n",
    "  weight_col=\"Weights\",\n",
    "  x_col=\"Filenames\",\n",
    "  y_col=cols,\n",
    "  batch_size=batch_size_train,\n",
    "  seed=random_seed,\n",
    "  shuffle=True,\n",
    "  class_mode=\"raw\",\n",
    "  target_size=image_size_tl)\n",
    "\n",
    "valid_generator_t = test_datagen.flow_from_dataframe(\n",
    "  dataframe=df_test,\n",
    "  directory=dataset_path+'/test/images/',\n",
    "  x_col=\"Filenames\",\n",
    "  y_col=cols,\n",
    "  batch_size=batch_size_train,\n",
    "  seed=random_seed,\n",
    "  shuffle=True,\n",
    "  class_mode=\"raw\",\n",
    "  target_size=image_size_tl)\n",
    "\n",
    "test_generator_t = test_datagen.flow_from_dataframe(\n",
    "  dataframe=df_test,\n",
    "  directory=dataset_path+'/test/images/',\n",
    "  x_col=\"Filenames\",\n",
    "  batch_size=batch_size_test,\n",
    "  seed=random_seed,\n",
    "  shuffle=False,\n",
    "  class_mode=None,\n",
    "  target_size=image_size_tl)"
   ]
  },
  {
   "cell_type": "markdown",
   "metadata": {
    "id": "Sl9YKlrKwZTv"
   },
   "source": [
    "Then the way to proceed is the same as before. First of all, I train the last layers of the model on the images. "
   ]
  },
  {
   "cell_type": "code",
   "execution_count": null,
   "metadata": {
    "id": "kNhv_mk4UldZ"
   },
   "outputs": [],
   "source": [
    "model_t.compile(optimizer='adam', loss='binary_crossentropy', metrics=TRAIN_METRICS)\n",
    "\n",
    "# Start the stopwatch / counter\n",
    "t1_start = perf_counter()\n",
    "\n",
    "STEP_SIZE_TRAIN=train_generator_t.n//train_generator_t.batch_size\n",
    "STEP_SIZE_VALID=valid_generator_t.n//valid_generator_t.batch_size\n",
    "STEP_SIZE_TEST=test_generator_t.n//test_generator_t.batch_size\n",
    "\n",
    "model_t.fit(train_generator_t, epochs=number_of_ephocs, validation_data=valid_generator_t, steps_per_epoch=STEP_SIZE_TRAIN, validation_steps=STEP_SIZE_VALID)\n",
    "\n",
    "# Stop the stopwatch / counter\n",
    "t1_stop = perf_counter()"
   ]
  },
  {
   "cell_type": "code",
   "execution_count": null,
   "metadata": {
    "colab": {
     "base_uri": "https://localhost:8080/"
    },
    "id": "4S_mFDOKtorH",
    "outputId": "ae031c03-ca49-48bb-b850-0665cd72ebab"
   },
   "outputs": [
    {
     "name": "stdout",
     "output_type": "stream",
     "text": [
      "Elapsed time in seconds: 725.319429958\n"
     ]
    }
   ],
   "source": [
    "print(\"Elapsed time in seconds:\",t1_stop-t1_start)"
   ]
  },
  {
   "cell_type": "markdown",
   "metadata": {},
   "source": [
    "The training time is much less than the training time of the previous model."
   ]
  },
  {
   "cell_type": "markdown",
   "metadata": {
    "id": "8drLRikemUHF"
   },
   "source": [
    "Now I test the model on the test set of images."
   ]
  },
  {
   "cell_type": "code",
   "execution_count": null,
   "metadata": {
    "id": "jV93ezz5yv2C"
   },
   "outputs": [],
   "source": [
    "#get predictions\n",
    "res_t, rep_t = getResults(test_generator_t, model_t, STEP_SIZE_TEST, False)"
   ]
  },
  {
   "cell_type": "markdown",
   "metadata": {
    "id": "MQgITAGcmyt8"
   },
   "source": [
    "The variable *res_t* contains the dataframe with the results, while the variable *rep_t* contains the classification report,"
   ]
  },
  {
   "cell_type": "code",
   "execution_count": null,
   "metadata": {
    "colab": {
     "base_uri": "https://localhost:8080/"
    },
    "id": "KXFG1IKBnRTc",
    "outputId": "ba2554d6-cbda-48bc-e9ff-271ad0fb87cd"
   },
   "outputs": [
    {
     "name": "stdout",
     "output_type": "stream",
     "text": [
      "              precision    recall  f1-score   support\n",
      "\n",
      " Sea Surface       1.00      1.00      1.00       110\n",
      "   Oil Spill       0.94      0.93      0.94        88\n",
      "  Look-alike       0.71      0.65      0.68        55\n",
      "        Ship       0.39      0.56      0.46        34\n",
      "        Land       0.93      1.00      0.96        26\n",
      "\n",
      "   micro avg       0.84      0.87      0.86       313\n",
      "   macro avg       0.79      0.83      0.81       313\n",
      "weighted avg       0.86      0.87      0.86       313\n",
      " samples avg       0.86      0.89      0.86       313\n",
      "\n"
     ]
    }
   ],
   "source": [
    "print(rep_t)"
   ]
  },
  {
   "cell_type": "markdown",
   "metadata": {
    "id": "1K8QIoQR_D2b"
   },
   "source": [
    "In this model the values of the metrics are much higher than before. The only class that does not have satisfactory Precision and Recall values is the '*Ship*' class, but it is not too relevant given the goal of the project. \n",
    "\n",
    "The results obtained with the transfer learning technique are very satisfying."
   ]
  },
  {
   "cell_type": "markdown",
   "metadata": {
    "id": "lcswSGqBm8BA"
   },
   "source": [
    "And finally I print the confusion matrix for each class."
   ]
  },
  {
   "cell_type": "code",
   "execution_count": null,
   "metadata": {
    "colab": {
     "base_uri": "https://localhost:8080/",
     "height": 856
    },
    "id": "IciN9svCWazc",
    "outputId": "0f1f36d2-04f6-4a62-dba3-845d87b5a859"
   },
   "outputs": [
    {
     "data": {
      "image/png": "[encoded data removed]",
      "text/plain": [
       "<Figure size 1800x1080 with 7 Axes>"
      ]
     },
     "metadata": {
      "needs_background": "light"
     },
     "output_type": "display_data"
    }
   ],
   "source": [
    "printConfusionMatrices(res_t)"
   ]
  },
  {
   "cell_type": "markdown",
   "metadata": {
    "id": "eJ2iKdOTrCK6"
   },
   "source": [
    "In these matrices it can be seen how the number of incorrectly classified elements has drastically decreased, obtaining a very large gap between correct and incorrect predictions and therefore obtaining excellent results."
   ]
  },
  {
   "cell_type": "markdown",
   "metadata": {
    "id": "iZiUlbqq1Zd-"
   },
   "source": [
    "## Test with noise"
   ]
  },
  {
   "cell_type": "markdown",
   "metadata": {
    "id": "ryuhhCEByc9l"
   },
   "source": [
    "In this section I apply the same process as before to test the model obtained with transfer learning on images affected by noise. "
   ]
  },
  {
   "cell_type": "markdown",
   "metadata": {
    "id": "Cegelax2yVY2"
   },
   "source": [
    "First of all I get prediction on noisy images, changing the variability of introducted noise. The range of noise variability that I test is the same as before so it goes from 40 to 130, increasing by 10 each time."
   ]
  },
  {
   "cell_type": "code",
   "execution_count": null,
   "metadata": {
    "id": "dJw92XSsqo6S"
   },
   "outputs": [],
   "source": [
    "res_dict_t = []\n",
    "for i in range_variability:\n",
    "  test_generator_noise_t = createNoiseGenerator(i, image_size_tl);\n",
    "  step = test_generator_noise_t.n//test_generator_noise_t.batch_size\n",
    "  res_noise_t, rep_noise_t = getResults(test_generator_noise_t, model_t, step, True);\n",
    "  res_dict_t.append(rep_noise_t);"
   ]
  },
  {
   "cell_type": "code",
   "execution_count": null,
   "metadata": {
    "colab": {
     "base_uri": "https://localhost:8080/",
     "height": 897
    },
    "id": "9r2cLtZHsC6Q",
    "outputId": "351b5e74-fbe3-46e6-98cb-f7a66f7a3098"
   },
   "outputs": [
    {
     "data": {
      "image/png": "[encoded data removed]",
      "text/plain": [
       "<Figure size 1800x1080 with 6 Axes>"
      ]
     },
     "metadata": {
      "needs_background": "light"
     },
     "output_type": "display_data"
    }
   ],
   "source": [
    "printNoiseResults(res_dict_t, cols, metrics_eval, range_variability);"
   ]
  },
  {
   "cell_type": "markdown",
   "metadata": {
    "id": "tOlb5-6OzqZC"
   },
   "source": [
    "Accuracy and Recall values generally remain fairly stable. For some classes like '*Ship*' and '*Look-alike*' they tend to vary more by decreasing and increasing, while for the '*Land*' class there is a slight decrease in Recall and Precision when the variability is very high.\n",
    "\n",
    "Therefore, it can seen that the model is robust to noise since the values of the metricts remain stable."
   ]
  },
  {
   "cell_type": "markdown",
   "metadata": {
    "id": "GbadV1AbyPc-"
   },
   "source": [
    "Then I print the Confusion Matrices of the results with noise variability equal to 130 to compare them with the matrices obtained on images without noise."
   ]
  },
  {
   "cell_type": "code",
   "execution_count": null,
   "metadata": {
    "colab": {
     "base_uri": "https://localhost:8080/",
     "height": 856
    },
    "id": "Gd3ZfKpHxE0A",
    "outputId": "80822185-97a4-4055-ffe3-028abdff09ae"
   },
   "outputs": [
    {
     "data": {
      "image/png": "[encoded data removed]",
      "text/plain": [
       "<Figure size 1800x1080 with 7 Axes>"
      ]
     },
     "metadata": {
      "needs_background": "light"
     },
     "output_type": "display_data"
    }
   ],
   "source": [
    "printConfusionMatrices(res_noise_t)"
   ]
  },
  {
   "cell_type": "markdown",
   "metadata": {
    "id": "XGUMHY6TntQN"
   },
   "source": [
    "In this case, if the confusion matrices of the model predictions on the original images are compared with those of the predictions on images with a high noise variability, the latter have the values of True Positive and True Negative lower, but not by much.\n",
    "\n",
    "This confirms that this model is also very robust to noise."
   ]
  }
 ],
 "metadata": {
  "accelerator": "GPU",
  "colab": {
   "collapsed_sections": [],
   "name": "Progetto Data Mining.ipynb",
   "provenance": [],
   "toc_visible": true
  },
  "kernelspec": {
   "display_name": "Python 3",
   "language": "python",
   "name": "python3"
  },
  "language_info": {
   "codemirror_mode": {
    "name": "ipython",
    "version": 3
   },
   "file_extension": ".py",
   "mimetype": "text/x-python",
   "name": "python",
   "nbconvert_exporter": "python",
   "pygments_lexer": "ipython3",
   "version": "3.7.4"
  }
 },
 "nbformat": 4,
 "nbformat_minor": 1
}
